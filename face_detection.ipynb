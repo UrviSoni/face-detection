{
 "cells": [
  {
   "cell_type": "code",
   "execution_count": 1,
   "metadata": {},
   "outputs": [],
   "source": [
    "import cv2"
   ]
  },
  {
   "cell_type": "code",
   "execution_count": 2,
   "metadata": {},
   "outputs": [],
   "source": [
    "img = cv2.imread(\"C:/Urvi/urvi_pic.jpg\", 1)"
   ]
  },
  {
   "cell_type": "code",
   "execution_count": 3,
   "metadata": {},
   "outputs": [
    {
     "name": "stdout",
     "output_type": "stream",
     "text": [
      "[[[166 149 122]\n",
      "  [166 149 122]\n",
      "  [168 151 124]\n",
      "  ...\n",
      "  [101  93 103]\n",
      "  [101  93 103]\n",
      "  [101  93 103]]\n",
      "\n",
      " [[166 149 122]\n",
      "  [166 149 122]\n",
      "  [167 150 123]\n",
      "  ...\n",
      "  [100  92 102]\n",
      "  [100  92 102]\n",
      "  [100  92 102]]\n",
      "\n",
      " [[166 149 122]\n",
      "  [166 149 122]\n",
      "  [167 150 123]\n",
      "  ...\n",
      "  [100  92 102]\n",
      "  [ 99  91 101]\n",
      "  [ 99  91 101]]\n",
      "\n",
      " ...\n",
      "\n",
      " [[201 212 210]\n",
      "  [201 212 210]\n",
      "  [201 212 210]\n",
      "  ...\n",
      "  [204 217 219]\n",
      "  [204 217 219]\n",
      "  [204 217 219]]\n",
      "\n",
      " [[201 212 210]\n",
      "  [201 212 210]\n",
      "  [201 212 210]\n",
      "  ...\n",
      "  [204 217 219]\n",
      "  [204 217 219]\n",
      "  [204 217 219]]\n",
      "\n",
      " [[201 212 210]\n",
      "  [201 212 210]\n",
      "  [201 212 210]\n",
      "  ...\n",
      "  [204 217 219]\n",
      "  [204 217 219]\n",
      "  [204 217 219]]]\n"
     ]
    }
   ],
   "source": [
    "print(img)"
   ]
  },
  {
   "cell_type": "code",
   "execution_count": 4,
   "metadata": {},
   "outputs": [],
   "source": [
    "img_1 = cv2.imread(\"C:/Urvi/urvi_pic.jpg\", 0)"
   ]
  },
  {
   "cell_type": "code",
   "execution_count": 5,
   "metadata": {},
   "outputs": [
    {
     "name": "stdout",
     "output_type": "stream",
     "text": [
      "[[143 143 145 ...  97  97  97]\n",
      " [143 143 144 ...  96  96  96]\n",
      " [143 143 144 ...  96  95  95]\n",
      " ...\n",
      " [210 210 210 ... 216 216 216]\n",
      " [210 210 210 ... 216 216 216]\n",
      " [210 210 210 ... 216 216 216]]\n"
     ]
    }
   ],
   "source": [
    "print(img_1)"
   ]
  },
  {
   "cell_type": "code",
   "execution_count": 6,
   "metadata": {},
   "outputs": [
    {
     "name": "stdout",
     "output_type": "stream",
     "text": [
      "<class 'numpy.ndarray'>\n"
     ]
    }
   ],
   "source": [
    "print(type(img))"
   ]
  },
  {
   "cell_type": "code",
   "execution_count": 7,
   "metadata": {},
   "outputs": [
    {
     "name": "stdout",
     "output_type": "stream",
     "text": [
      "(1280, 720, 3)\n"
     ]
    }
   ],
   "source": [
    "print(img.shape) # 1280 Rows, 720 Colums, 3 channels"
   ]
  },
  {
   "cell_type": "code",
   "execution_count": 8,
   "metadata": {},
   "outputs": [
    {
     "name": "stdout",
     "output_type": "stream",
     "text": [
      "(1280, 720)\n"
     ]
    }
   ],
   "source": [
    "print(img_1.shape) # 1280 Rows, 720 Colums, 1 channels"
   ]
  },
  {
   "cell_type": "code",
   "execution_count": 10,
   "metadata": {},
   "outputs": [],
   "source": [
    "cv2.imshow(\"Urvi\",img)\n",
    "cv2.waitKey(2000)\n",
    "cv2.destroyAllWindows()"
   ]
  },
  {
   "cell_type": "code",
   "execution_count": 11,
   "metadata": {},
   "outputs": [],
   "source": [
    "resized = cv2.resize(img, (600,600))"
   ]
  },
  {
   "cell_type": "code",
   "execution_count": 12,
   "metadata": {},
   "outputs": [],
   "source": [
    "cv2.imshow(\"Urvi\",resized)\n",
    "cv2.waitKey(2000)\n",
    "cv2.destroyAllWindows()"
   ]
  },
  {
   "cell_type": "code",
   "execution_count": 17,
   "metadata": {},
   "outputs": [],
   "source": [
    "resized_1 = cv2.resize(img, (int(img.shape[1]/2), int(img.shape[0]/2)))"
   ]
  },
  {
   "cell_type": "code",
   "execution_count": 19,
   "metadata": {},
   "outputs": [],
   "source": [
    "cv2.imshow(\"Urvi\",resized_1)\n",
    "cv2.waitKey(0)\n",
    "cv2.destroyAllWindows()"
   ]
  },
  {
   "cell_type": "code",
   "execution_count": 20,
   "metadata": {},
   "outputs": [],
   "source": [
    "resized_2 = cv2.resize(img, (int(img.shape[1]*2), int(img.shape[0]*2)))"
   ]
  },
  {
   "cell_type": "code",
   "execution_count": 21,
   "metadata": {},
   "outputs": [],
   "source": [
    "cv2.imshow(\"Urvi\",resized_2)\n",
    "cv2.waitKey(0)\n",
    "cv2.destroyAllWindows()"
   ]
  },
  {
   "cell_type": "code",
   "execution_count": 2,
   "metadata": {},
   "outputs": [
    {
     "name": "stdout",
     "output_type": "stream",
     "text": [
      "<class 'numpy.ndarray'>\n",
      "[[379 273 260 260]\n",
      " [425 473 155 155]]\n"
     ]
    }
   ],
   "source": [
    "# Create Face Cascade\n",
    "\n",
    "face_cascade = cv2.CascadeClassifier(\"C:/Urvi/Machine Learning/Blog/Python/haarcascade_frontalface_default.xml\")\n",
    "\n",
    "img = cv2.imread(\"C:/Urvi/urvi_pic.jpg\", 1)\n",
    "\n",
    "gray_img = cv2.cvtColor(img, cv2.COLOR_BGR2GRAY)\n",
    "\n",
    "faces = face_cascade.detectMultiScale(gray_img, scaleFactor=1.05, minNeighbors=5)\n",
    "\n",
    "print(type(faces))\n",
    "print(faces)"
   ]
  },
  {
   "cell_type": "code",
   "execution_count": 3,
   "metadata": {},
   "outputs": [],
   "source": [
    "for x,y,w,h in faces:\n",
    "    img = cv2.rectangle(img, (x,y), (x+w,y+h), (0,255,0), 3)\n",
    "    \n",
    "# resized = cv2.resize(img, (int(img.shape[1]), int(img.shape[0])))\n",
    "\n",
    "cv2.imshow(\"Gray\", img)\n",
    "\n",
    "cv2.waitKey(0)\n",
    "cv2.destroyAllWindows()"
   ]
  }
 ],
 "metadata": {
  "kernelspec": {
   "display_name": "Python 3",
   "language": "python",
   "name": "python3"
  },
  "language_info": {
   "codemirror_mode": {
    "name": "ipython",
    "version": 3
   },
   "file_extension": ".py",
   "mimetype": "text/x-python",
   "name": "python",
   "nbconvert_exporter": "python",
   "pygments_lexer": "ipython3",
   "version": "3.7.0"
  }
 },
 "nbformat": 4,
 "nbformat_minor": 2
}
